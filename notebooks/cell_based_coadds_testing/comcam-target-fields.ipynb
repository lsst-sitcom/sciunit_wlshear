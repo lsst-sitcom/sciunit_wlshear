{
 "cells": [
  {
   "cell_type": "markdown",
   "id": "57478313-bfba-4dc2-9d6b-2eff3a6967e3",
   "metadata": {},
   "source": [
    "# ComCam Fields with Cell-Based Coadds\n",
    "\n",
    "Created by: Miranda Gorsuch\n",
    "\n",
    "A few main purposes of this notebook:\n",
    "- Look at how many warps are in each ComCam field, and see if the sum of each field is equal to the total number of warps in the ComCam repo.\n",
    "    - This is to understand what fields are available and check if anything is missing.\n",
    "- Check the number of default coadds in a field compared to the number of cell-based coadds.\n",
    "    - This is to check what patches fail for cell-based coadds and to understand why by looking at the task logs.\n",
    "- Visually inspect cell-based coadd outputs\n",
    "\n",
    "This notebook also acts as an example for accessing cell-based coadds in ComCam.\n",
    "\n",
    "Last working weekly: `w_2025_12`\n",
    "\n",
    "Container size: small (4 GB)"
   ]
  },
  {
   "cell_type": "markdown",
   "id": "6cefac72-402a-4139-bda5-9df38610eab2",
   "metadata": {},
   "source": [
    "## Imports"
   ]
  },
  {
   "cell_type": "code",
   "execution_count": null,
   "id": "ef0e2cde-3bd4-46b7-a48c-5b8ce2a8082b",
   "metadata": {},
   "outputs": [],
   "source": [
    "from lsst.daf.butler import Butler\n",
    "from lsst.skymap import Index2D\n",
    "import numpy as np\n",
    "from matplotlib import pyplot as plt\n",
    "\n",
    "%matplotlib inline\n",
    "\n",
    "# define image display backend\n",
    "import lsst.afw.display as afwDisplay\n",
    "afwDisplay.setDefaultBackend('firefly')"
   ]
  },
  {
   "cell_type": "code",
   "execution_count": null,
   "id": "a630b7a0-b66c-4b64-9496-661578deb95c",
   "metadata": {},
   "outputs": [],
   "source": [
    "repo = '/repo/main'\n",
    "collection = 'LSSTComCam/runs/DRP/DP1/w_2025_06/DM-48810'\n",
    "butler = Butler(repo, collections=[collection])\n",
    "registry = butler.registry"
   ]
  },
  {
   "cell_type": "markdown",
   "id": "3c94546e-3a74-46b4-9ccc-89d7ba31f084",
   "metadata": {},
   "source": [
    "## Count Warps"
   ]
  },
  {
   "cell_type": "markdown",
   "id": "3ac8e5ad-afaf-4855-a516-287a0a08ad4c",
   "metadata": {},
   "source": [
    "List the field names found in the ComCam repo."
   ]
  },
  {
   "cell_type": "code",
   "execution_count": null,
   "id": "17ffeaac-3c63-47c8-a184-e1583a78e8a3",
   "metadata": {},
   "outputs": [],
   "source": [
    "# find all field names in repo\n",
    "target_names = []\n",
    "for ref in butler.registry.queryDatasets('deepCoadd_directWarp', \n",
    "                                         collections=collection, \n",
    "                                         instrument='LSSTComCam', \n",
    "                                         band='i', \n",
    "                                         skymap='lsst_cells_v1',).expanded():\n",
    "    target_names.append(ref.dataId.records[\"visit\"].target_name)\n",
    "target_names = np.unique(target_names)\n",
    "print(target_names)"
   ]
  },
  {
   "cell_type": "markdown",
   "id": "557bd139-6b01-4a80-8bba-be4ddbc0011e",
   "metadata": {},
   "source": [
    "### Total Warps\n",
    "\n",
    "Count the total number of direct warps found in the ComCam repo, regardless of field type."
   ]
  },
  {
   "cell_type": "code",
   "execution_count": null,
   "id": "5bd74b1e-0a60-4179-ac6c-dab4b8dcfd9c",
   "metadata": {},
   "outputs": [],
   "source": [
    "count_repo = 0\n",
    "for ref in butler.registry.queryDatasets('deepCoadd_directWarp', \n",
    "                                         collections=collection, \n",
    "                                         instrument='LSSTComCam', \n",
    "                                         band='i', \n",
    "                                         skymap='lsst_cells_v1'):\n",
    "    count_repo += 1\n",
    "print(\"Total number of warps in the collection: \", count_repo)"
   ]
  },
  {
   "cell_type": "markdown",
   "id": "4cdb4afe-5494-4ea8-a44c-7d4e3794c594",
   "metadata": {},
   "source": [
    "Start the counter for the sum of warps in each individual field."
   ]
  },
  {
   "cell_type": "code",
   "execution_count": null,
   "id": "cc02074d-545c-4cb9-a0ae-465f4e70535e",
   "metadata": {},
   "outputs": [],
   "source": [
    "warp_count = 0"
   ]
  },
  {
   "cell_type": "markdown",
   "id": "5855617d-e07c-4e2d-b9de-dd65e1810f3d",
   "metadata": {},
   "source": [
    "### Individual Fields"
   ]
  },
  {
   "cell_type": "markdown",
   "id": "75e41449-14a9-45a0-8f80-52d45f06ddba",
   "metadata": {},
   "source": [
    "#### Field: SV_38_7"
   ]
  },
  {
   "cell_type": "code",
   "execution_count": null,
   "id": "bd198b1b-c23e-4f18-a3a6-92d43ac41102",
   "metadata": {},
   "outputs": [],
   "source": [
    "count = 0\n",
    "for ref in butler.registry.queryDatasets('deepCoadd_directWarp', \n",
    "                                         collections=collection, \n",
    "                                         instrument='LSSTComCam', \n",
    "                                         band='i', \n",
    "                                         skymap='lsst_cells_v1',\n",
    "                                         where=\"visit.target_name IN ('Rubin_SV_38_7')\"):\n",
    "    count += 1\n",
    "    warp_count += 1\n",
    "print(\"Number of warps in Rubin_SV_38_7: \", count)"
   ]
  },
  {
   "cell_type": "markdown",
   "id": "683dee60-6faf-4ac7-83f4-702c6b332cc1",
   "metadata": {},
   "source": [
    "#### Field: ECDFS"
   ]
  },
  {
   "cell_type": "code",
   "execution_count": null,
   "id": "8e55f0c5-f919-4c96-9b18-64fedfd872fd",
   "metadata": {},
   "outputs": [],
   "source": [
    "count = 0\n",
    "for ref in butler.registry.queryDatasets('deepCoadd_directWarp', \n",
    "                                         collections=collection, \n",
    "                                         instrument='LSSTComCam', \n",
    "                                         band='i', \n",
    "                                         skymap='lsst_cells_v1',\n",
    "                                         where=\"visit.target_name IN ('ECDFS')\"):\n",
    "    count += 1\n",
    "    warp_count += 1\n",
    "print(\"Number of warps in ECDFS: \", count)"
   ]
  },
  {
   "cell_type": "markdown",
   "id": "e7a0e143-2464-4013-941b-fe065c1644db",
   "metadata": {},
   "source": [
    "#### Field: EDFS"
   ]
  },
  {
   "cell_type": "code",
   "execution_count": null,
   "id": "4cb21ba7-997b-4e0f-8abd-7dd8e5f37027",
   "metadata": {},
   "outputs": [],
   "source": [
    "count = 0\n",
    "for ref in butler.registry.queryDatasets('deepCoadd_directWarp', \n",
    "                                         collections=collection, \n",
    "                                         instrument='LSSTComCam', \n",
    "                                         band='i', \n",
    "                                         skymap='lsst_cells_v1',\n",
    "                                         where=\"visit.target_name IN ('EDFS_comcam')\"):\n",
    "    count += 1\n",
    "    warp_count += 1\n",
    "print(\"Number of warps in EDFS_ComCam: \", count)"
   ]
  },
  {
   "cell_type": "markdown",
   "id": "fc03be67-092c-49ac-8675-2d80cf5202f1",
   "metadata": {},
   "source": [
    "#### Field: SV_95-25"
   ]
  },
  {
   "cell_type": "code",
   "execution_count": null,
   "id": "88344891-29a0-442e-a65d-58770c2b07d2",
   "metadata": {},
   "outputs": [],
   "source": [
    "count = 0\n",
    "for ref in butler.registry.queryDatasets('deepCoadd_directWarp', \n",
    "                                         collections=collection, \n",
    "                                         instrument='LSSTComCam', \n",
    "                                         band='i', \n",
    "                                         skymap='lsst_cells_v1',\n",
    "                                         where=\"visit.target_name IN ('Rubin_SV_095_-25')\"):\n",
    "    count += 1\n",
    "    warp_count += 1\n",
    "print(\"Number of warps in Rubin_SV_95_-25: \", count)"
   ]
  },
  {
   "cell_type": "markdown",
   "id": "bbeb02b5-3b71-4087-b5f5-9f9dc61f94d4",
   "metadata": {},
   "source": [
    "#### Field: Fornax"
   ]
  },
  {
   "cell_type": "code",
   "execution_count": null,
   "id": "0a8172b3-c7e4-402f-a8a1-94eb4b9fc4c5",
   "metadata": {},
   "outputs": [],
   "source": [
    "count = 0\n",
    "for ref in butler.registry.queryDatasets('deepCoadd_directWarp', \n",
    "                                         collections=collection, \n",
    "                                         instrument='LSSTComCam', \n",
    "                                         band='i', \n",
    "                                         skymap='lsst_cells_v1',\n",
    "                                         where=\"visit.target_name IN ('Fornax_dSph')\"):\n",
    "    count += 1\n",
    "    warp_count += 1\n",
    "print(\"Number of warps in Fornax: \", count)"
   ]
  },
  {
   "cell_type": "markdown",
   "id": "8e232132-c365-43d0-889d-8d16359a61dd",
   "metadata": {},
   "source": [
    "#### Field: 47_Tuc"
   ]
  },
  {
   "cell_type": "code",
   "execution_count": null,
   "id": "9d8432cd-5ab2-4b8d-898f-00d6a152281a",
   "metadata": {},
   "outputs": [],
   "source": [
    "count = 0\n",
    "for ref in butler.registry.queryDatasets('deepCoadd_directWarp', \n",
    "                                         collections=collection, \n",
    "                                         instrument='LSSTComCam', \n",
    "                                         band='i', \n",
    "                                         skymap='lsst_cells_v1',\n",
    "                                         where=\"visit.target_name IN ('47_Tuc')\"):\n",
    "    count += 1\n",
    "    warp_count += 1\n",
    "print(\"Number of warps in 47_Tuc: \", count)"
   ]
  },
  {
   "cell_type": "markdown",
   "id": "46a67aec-3947-47d3-8d6b-7c6fa0ef0812",
   "metadata": {},
   "source": [
    "#### Field: Misc"
   ]
  },
  {
   "cell_type": "code",
   "execution_count": null,
   "id": "b1d04356-b465-4039-b3b1-d0d95cd4b6ca",
   "metadata": {},
   "outputs": [],
   "source": [
    "count = 0\n",
    "for ref in butler.registry.queryDatasets('deepCoadd_directWarp', \n",
    "                                         collections=collection, \n",
    "                                         instrument='LSSTComCam', \n",
    "                                         band='i', \n",
    "                                         skymap='lsst_cells_v1',\n",
    "                                         where=\"visit.target_name IN ('slew_icrs')\"):\n",
    "    count += 1\n",
    "    warp_count += 1\n",
    "print(\"Number of warps in slew_icrs: \", count)"
   ]
  },
  {
   "cell_type": "markdown",
   "id": "2f57100f-8f5c-42ce-9f10-f49caee80029",
   "metadata": {},
   "source": [
    "### Total warp count from individual fields"
   ]
  },
  {
   "cell_type": "code",
   "execution_count": null,
   "id": "4a060c95-a78f-4d17-9335-d1f46d0c44fb",
   "metadata": {},
   "outputs": [],
   "source": [
    "print(\"Total counts from repo: \", count_repo)\n",
    "print(\"Total counts from individual fields within repo: \", warp_count)"
   ]
  },
  {
   "cell_type": "markdown",
   "id": "ea839220-26c2-41ab-8a4b-714813ae4539",
   "metadata": {},
   "source": [
    "## Check if cell-based coadds ran to completion for each field\n",
    "\n",
    "If a patch fails for a cell-based coadd, look at the log and use visual inspection to understand why.\n",
    "\n",
    "The cell-based coadds used in the following collections were generated with the `w_2025_07` stack + `DM-46961` ticket branch."
   ]
  },
  {
   "cell_type": "markdown",
   "id": "980f6334-3d47-4714-a719-9de4ab1be3ad",
   "metadata": {},
   "source": [
    "### Method for plotting cell inputs for a patch"
   ]
  },
  {
   "cell_type": "code",
   "execution_count": null,
   "id": "8b8b1562-2a82-4bb5-9762-48539d3c35fe",
   "metadata": {},
   "outputs": [],
   "source": [
    "def plot_cell_inputs(cell_coadd, tract, patch):\n",
    "    '''\n",
    "    Method for plotting the number of inputs per cell for a cell-based coadd.\n",
    "    \n",
    "    Inputs:\n",
    "    cell_coadd --> MultipleCellCoadd : patch-size cell-based coadd. Pulled from the butler\n",
    "    tract --> int : tract of patch being plotted\n",
    "    patch --> int : patch being plotted\n",
    "    '''\n",
    "    \n",
    "    cell_list_filled = list(cell_coadd.cells.keys())\n",
    "    \n",
    "    cell_list = []\n",
    "    cells_filled = [False] * cell_coadd.grid.shape[0] * cell_coadd.grid.shape[1]\n",
    "    \n",
    "    index = 0\n",
    "    for i in range(cell_coadd.grid.shape[0]):\n",
    "        for j in range(cell_coadd.grid.shape[1]):\n",
    "            # Index2D axes are reverse of 2D list\n",
    "            cell_list.append(Index2D(x=j,y=i))\n",
    "    \n",
    "            for cell in cell_list_filled:\n",
    "                if (j==cell.x) and (i==cell.y):\n",
    "                    cells_filled[index]=True\n",
    "    \n",
    "            index += 1\n",
    "    \n",
    "    # arrange the number of inputs for each cell into a 2D grid:\n",
    "    x_cell_bin = np.arange(0,cell_coadd.grid.shape[0]+1,1)\n",
    "    y_cell_bin = np.arange(0,cell_coadd.grid.shape[1]+1,1)\n",
    "    \n",
    "    inputs_list = np.zeros([cell_coadd.grid.shape[0],cell_coadd.grid.shape[1]])\n",
    "    \n",
    "    # for cell in cell_list:\n",
    "    for index, cell in enumerate(cell_list):\n",
    "    \n",
    "        # check if the cell is filled, skip if not\n",
    "        if not (cells_filled[index]):\n",
    "            continue \n",
    "            \n",
    "        num_cell_inputs = len(cell_coadd.cells[cell].inputs)\n",
    "        x_index = cell.x\n",
    "        y_index = cell.y\n",
    "            \n",
    "        inputs_list[y_index][x_index] = num_cell_inputs\n",
    "    \n",
    "    fig, ax1 = plt.subplots(1, 1, figsize=(6,6))\n",
    "    plt.tight_layout()\n",
    "    \n",
    "    input_distrib = ax1.pcolormesh(inputs_list, shading='auto', vmin=inputs_list.min(), vmax=inputs_list.max())\n",
    "    ax1.set_title(f\"ComCam cell input distribution\\nTract {tract}, Patch {patch}\")\n",
    "    ax1.set_xlabel(\"Cell x-index\")\n",
    "    ax1.set_ylabel(\"Cell y-index\")\n",
    "    ax1.set_aspect('equal')\n",
    "    ax1.set_xticks(np.arange(0, 21, 2))\n",
    "    ax1.set_yticks(np.arange(0, 21, 2))\n",
    "    fig.colorbar(input_distrib, ax=ax1, cmap='viridis', shrink=0.75, label='Number of input warps')\n",
    "    \n",
    "    plt.show()"
   ]
  },
  {
   "cell_type": "markdown",
   "id": "bd72e548-06b9-4f94-a813-3d79959531d8",
   "metadata": {},
   "source": [
    "### Rubin_SV_38_7 Field"
   ]
  },
  {
   "cell_type": "code",
   "execution_count": null,
   "id": "ba3f44ab-2dc1-409d-948c-40bc527bdfa0",
   "metadata": {},
   "outputs": [],
   "source": [
    "collection = 'u/mgorsuch/ComCam_Cells/Rubin_SV_38_7/20250214T210230Z'\n",
    "butler = Butler(repo, collections=[collection])\n",
    "registry = butler.registry"
   ]
  },
  {
   "cell_type": "code",
   "execution_count": null,
   "id": "ab034e72-bc4c-4080-b188-5fd92224323b",
   "metadata": {},
   "outputs": [],
   "source": [
    "count_repo = 0\n",
    "coadd_dataids = []\n",
    "for ref in butler.registry.queryDatasets('deepCoadd', collections=collection, instrument='LSSTComCam', band='i', skymap='lsst_cells_v1'):\n",
    "    coadd_dataids.append(ref.dataId)\n",
    "    count_repo += 1\n",
    "print(\"Total number of warps in the collection: \", count_repo)"
   ]
  },
  {
   "cell_type": "code",
   "execution_count": null,
   "id": "ac4602f9-b4c5-4b43-b698-48b968c8facd",
   "metadata": {},
   "outputs": [],
   "source": [
    "count_repo = 0\n",
    "cell_coadd_dataids = []\n",
    "for ref in butler.registry.queryDatasets('deepCoaddCell', collections=collection, instrument='LSSTComCam', band='i', skymap='lsst_cells_v1'):\n",
    "    cell_coadd_dataids.append(ref.dataId)\n",
    "    count_repo += 1\n",
    "print(\"Total number of warps in the collection: \", count_repo)"
   ]
  },
  {
   "cell_type": "markdown",
   "id": "4f8ab92c-6a95-4e65-a4ff-e8470a2d288c",
   "metadata": {},
   "source": [
    "Use sets to find what `dataIds` are present in default coadds but not cell-based coadds. This is to a quick check to see which, if any, cell-based coadds failed compared to default coadds."
   ]
  },
  {
   "cell_type": "code",
   "execution_count": null,
   "id": "e55bc2dd-a082-4831-b743-5b83f0ca6ed9",
   "metadata": {},
   "outputs": [],
   "source": [
    "set(coadd_dataids)-set(cell_coadd_dataids)"
   ]
  },
  {
   "cell_type": "code",
   "execution_count": null,
   "id": "635bd278-b240-45e1-8f6c-1fde5036df82",
   "metadata": {},
   "outputs": [],
   "source": [
    "coadd = butler.get('deepCoadd', \n",
    "                     collections = collection, \n",
    "                     instrument = 'LSSTComCam', \n",
    "                     skymap = 'lsst_cells_v1', \n",
    "                     tract = 10704, \n",
    "                     patch = 27,\n",
    "                     band = 'i',)"
   ]
  },
  {
   "cell_type": "code",
   "execution_count": null,
   "id": "6fa1758a-1a73-47e5-883c-196049c93f1f",
   "metadata": {},
   "outputs": [],
   "source": [
    "display1 = afwDisplay.Display(frame=1)\n",
    "display1.mtv(coadd.image)"
   ]
  },
  {
   "cell_type": "code",
   "execution_count": null,
   "id": "b92ddd49-9b04-4f41-9072-9b2eab8b41b9",
   "metadata": {},
   "outputs": [],
   "source": [
    "coadd_log = butler.get('assembleCellCoadd_log', \n",
    "                     collections = collection, \n",
    "                     instrument = 'LSSTComCam', \n",
    "                     skymap = 'lsst_cells_v1', \n",
    "                     tract = 10704, \n",
    "                     patch = 27,\n",
    "                     band = 'i',)\n",
    "\n",
    "coadd_error = [log['message'] for log in coadd_log.dict() if log['levelname'] == 'ERROR']\n",
    "print(coadd_error)"
   ]
  },
  {
   "cell_type": "markdown",
   "id": "4e6fe959-b513-43a6-ac48-c8945dfd563a",
   "metadata": {},
   "source": [
    "The coadd dropped from the cell-based coadds here is from no warp fully overlapping any cells."
   ]
  },
  {
   "cell_type": "markdown",
   "id": "d1b03ca6-99e3-4182-9c63-e8f5177f740a",
   "metadata": {},
   "source": [
    "#### Ensure no empty borders\n",
    "\n",
    "Double check that the cells on the patch border are filled."
   ]
  },
  {
   "cell_type": "code",
   "execution_count": null,
   "id": "c337e859-8ed6-46f0-8a36-5b736fdcc453",
   "metadata": {},
   "outputs": [],
   "source": [
    "cell_coadd = butler.get('deepCoaddCell', \n",
    "                     collections = collection, \n",
    "                     instrument = 'LSSTComCam', \n",
    "                     skymap = 'lsst_cells_v1', \n",
    "                     tract = 10464, \n",
    "                     patch = 87,\n",
    "                     band = 'i',)\n",
    "\n",
    "plot_cell_inputs(cell_coadd, 10464, 87)"
   ]
  },
  {
   "cell_type": "markdown",
   "id": "eea6f5f4-6742-404c-8b93-4befd1dea88c",
   "metadata": {},
   "source": [
    "### ECDFS Field"
   ]
  },
  {
   "cell_type": "code",
   "execution_count": null,
   "id": "57e00e80-f8dc-4e60-a8ac-e6ab39f2818c",
   "metadata": {},
   "outputs": [],
   "source": [
    "collection = 'u/mgorsuch/ComCam_Cells/ECDFS/20250217T221024Z'\n",
    "butler = Butler(repo, collections=[collection])\n",
    "registry = butler.registry"
   ]
  },
  {
   "cell_type": "code",
   "execution_count": null,
   "id": "1d5339b3-cca9-4646-ac28-9020f4ca2abf",
   "metadata": {},
   "outputs": [],
   "source": [
    "count_repo = 0\n",
    "coadd_dataids = []\n",
    "for ref in butler.registry.queryDatasets('deepCoadd', collections=collection, instrument='LSSTComCam', band='i', skymap='lsst_cells_v1'):\n",
    "    coadd_dataids.append(ref.dataId)\n",
    "    count_repo += 1\n",
    "print(\"Total number of default coadds in the collection: \", count_repo)"
   ]
  },
  {
   "cell_type": "code",
   "execution_count": null,
   "id": "1bab43e7-ca96-4458-9987-d7fd017d8ab2",
   "metadata": {},
   "outputs": [],
   "source": [
    "count_repo = 0\n",
    "cell_coadd_dataids = []\n",
    "for ref in butler.registry.queryDatasets('deepCoaddCell', collections=collection, instrument='LSSTComCam', band='i', skymap='lsst_cells_v1'):\n",
    "    cell_coadd_dataids.append(ref.dataId)\n",
    "    count_repo += 1\n",
    "print(\"Total number of cell-based coadds in the collection: \", count_repo)"
   ]
  },
  {
   "cell_type": "code",
   "execution_count": null,
   "id": "79d5e3e4-1936-467e-979b-de73956499bc",
   "metadata": {},
   "outputs": [],
   "source": [
    "set(coadd_dataids)-set(cell_coadd_dataids)"
   ]
  },
  {
   "cell_type": "code",
   "execution_count": null,
   "id": "2cc7a900-fd0c-4a61-9069-a26e3efed6c5",
   "metadata": {},
   "outputs": [],
   "source": [
    "coadd = butler.get('deepCoadd', \n",
    "                     collections = collection, \n",
    "                     instrument = 'LSSTComCam', \n",
    "                     skymap = 'lsst_cells_v1', \n",
    "                     tract = 4848, \n",
    "                     patch = 70,\n",
    "                     band = 'i',)"
   ]
  },
  {
   "cell_type": "code",
   "execution_count": null,
   "id": "8026d7ed-d8f6-4b41-ac36-31e2d9969455",
   "metadata": {},
   "outputs": [],
   "source": [
    "display1 = afwDisplay.Display(frame=1)\n",
    "display1.mtv(coadd.image)"
   ]
  },
  {
   "cell_type": "code",
   "execution_count": null,
   "id": "8933e567-890c-45a7-9700-bb361273f4c4",
   "metadata": {},
   "outputs": [],
   "source": [
    "coadd_log = butler.get('assembleCellCoadd_log', \n",
    "                     collections = collection, \n",
    "                     instrument = 'LSSTComCam', \n",
    "                     skymap = 'lsst_cells_v1', \n",
    "                     tract = 5063, \n",
    "                     patch = 57,\n",
    "                     band = 'i',)\n",
    "\n",
    "coadd_error = [log['message'] for log in coadd_log.dict() if log['levelname'] == 'ERROR']\n",
    "print(coadd_error)"
   ]
  },
  {
   "cell_type": "markdown",
   "id": "e5f0a96a-479d-4ac4-a20b-f025dd439723",
   "metadata": {},
   "source": [
    "All but one of the missing cell-based coadds contains the `No CCD from a warp found within a cell` error.\n",
    "\n",
    "The only exception is one (tract 5063, patch 57) that has `pop from an empty set` error. This specific coadd doesn't have any warps that fully cover a cell, as seen before."
   ]
  },
  {
   "cell_type": "markdown",
   "id": "27a496eb-cc1f-4831-8cd1-f5c6c55c1f21",
   "metadata": {},
   "source": [
    "#### Ensure no empty borders"
   ]
  },
  {
   "cell_type": "code",
   "execution_count": null,
   "id": "de71c008-6cbc-45ae-b8b1-4c898d6030df",
   "metadata": {},
   "outputs": [],
   "source": [
    "cell_coadd = butler.get('deepCoaddCell', \n",
    "                     collections = collection, \n",
    "                     instrument = 'LSSTComCam', \n",
    "                     skymap = 'lsst_cells_v1', \n",
    "                     tract = 4848, \n",
    "                     patch = 72,\n",
    "                     band = 'i',)\n",
    "\n",
    "plot_cell_inputs(cell_coadd, 4848, 72)"
   ]
  },
  {
   "cell_type": "markdown",
   "id": "b4e587e8-6732-4b91-b554-971b497d2d84",
   "metadata": {},
   "source": [
    "### EDFS Field"
   ]
  },
  {
   "cell_type": "code",
   "execution_count": null,
   "id": "287fd840-a460-4834-acbf-db7a58e2f5c8",
   "metadata": {},
   "outputs": [],
   "source": [
    "collection = 'u/mgorsuch/ComCam_Cells/EDFS/20250214T210850Z'\n",
    "butler = Butler(repo, collections=[collection])\n",
    "registry = butler.registry"
   ]
  },
  {
   "cell_type": "code",
   "execution_count": null,
   "id": "9bb62c2b-ce82-402c-b4d9-af34022956ad",
   "metadata": {},
   "outputs": [],
   "source": [
    "count_repo = 0\n",
    "coadd_dataids = []\n",
    "for ref in butler.registry.queryDatasets('deepCoadd', collections=collection, instrument='LSSTComCam', band='i', skymap='lsst_cells_v1'):\n",
    "    coadd_dataids.append(ref.dataId)\n",
    "    count_repo += 1\n",
    "print(\"Total number of warps in the collection: \", count_repo)"
   ]
  },
  {
   "cell_type": "code",
   "execution_count": null,
   "id": "c866d0a2-6999-4d50-aa69-49cabcddccd7",
   "metadata": {},
   "outputs": [],
   "source": [
    "count_repo = 0\n",
    "cell_coadd_dataids = []\n",
    "for ref in butler.registry.queryDatasets('deepCoaddCell', collections=collection, instrument='LSSTComCam', band='i', skymap='lsst_cells_v1'):\n",
    "    cell_coadd_dataids.append(ref.dataId)\n",
    "    count_repo += 1\n",
    "print(\"Total number of warps in the collection: \", count_repo)"
   ]
  },
  {
   "cell_type": "code",
   "execution_count": null,
   "id": "8b97a84a-e302-4a18-955d-f8b622dc61d5",
   "metadata": {},
   "outputs": [],
   "source": [
    "set(coadd_dataids)-set(cell_coadd_dataids)"
   ]
  },
  {
   "cell_type": "code",
   "execution_count": null,
   "id": "b06e35c6-5e06-4756-bf41-17f1016c1e62",
   "metadata": {},
   "outputs": [],
   "source": [
    "coadd = butler.get('deepCoadd', \n",
    "                     collections = collection, \n",
    "                     instrument = 'LSSTComCam', \n",
    "                     skymap = 'lsst_cells_v1', \n",
    "                     tract = 2394, \n",
    "                     patch = 63,\n",
    "                     band = 'i',)"
   ]
  },
  {
   "cell_type": "code",
   "execution_count": null,
   "id": "5d617d54-ab02-4ca8-8c3b-5a807ac5e5e1",
   "metadata": {},
   "outputs": [],
   "source": [
    "display1 = afwDisplay.Display(frame=1)\n",
    "display1.mtv(coadd.image)"
   ]
  },
  {
   "cell_type": "code",
   "execution_count": null,
   "id": "f6d188b8-32ea-4aa8-b30c-ebb3842f3ab7",
   "metadata": {},
   "outputs": [],
   "source": [
    "coadd_log = butler.get('assembleCellCoadd_log', \n",
    "                     collections = collection, \n",
    "                     instrument = 'LSSTComCam', \n",
    "                     skymap = 'lsst_cells_v1', \n",
    "                     tract = 2394, \n",
    "                     patch = 63,\n",
    "                     band = 'i',)\n",
    "\n",
    "coadd_error = [log['message'] for log in coadd_log.dict() if log['levelname'] == 'ERROR']\n",
    "print(coadd_error)"
   ]
  },
  {
   "cell_type": "markdown",
   "id": "4823d385-e36d-40d6-87b9-79ac8416d6a3",
   "metadata": {},
   "source": [
    "The two failling cell-based coadds don't have enough warps to fully cover any cells. This is not an unexpected result."
   ]
  },
  {
   "cell_type": "markdown",
   "id": "b26424d6-bfd2-4b4b-af05-8031759ae275",
   "metadata": {},
   "source": [
    "#### Ensure no empty borders"
   ]
  },
  {
   "cell_type": "code",
   "execution_count": null,
   "id": "bd0cb6ce-69a9-4c75-aa39-621693b40b78",
   "metadata": {},
   "outputs": [],
   "source": [
    "cell_coadd = butler.get('deepCoaddCell', \n",
    "                     collections = collection, \n",
    "                     instrument = 'LSSTComCam', \n",
    "                     skymap = 'lsst_cells_v1', \n",
    "                     tract = 2394, \n",
    "                     patch = 25,\n",
    "                     band = 'i',)\n",
    "\n",
    "plot_cell_inputs(cell_coadd, 2394, 25)"
   ]
  },
  {
   "cell_type": "markdown",
   "id": "1c3743e5-9889-43e1-964a-386e192e26a9",
   "metadata": {},
   "source": [
    "### Rubin_SV_095_-25 Field"
   ]
  },
  {
   "cell_type": "code",
   "execution_count": null,
   "id": "4070798f-bd26-46ad-93a0-51cb3d92c7c6",
   "metadata": {},
   "outputs": [],
   "source": [
    "collection = 'u/mgorsuch/ComCam_Cells/Rubin_SV_95_25/20250219T024719Z'\n",
    "butler = Butler(repo, collections=[collection])\n",
    "registry = butler.registry"
   ]
  },
  {
   "cell_type": "code",
   "execution_count": null,
   "id": "d5c2eaa5-1b1e-4f09-a64f-d2e708d6bb0d",
   "metadata": {},
   "outputs": [],
   "source": [
    "count_repo = 0\n",
    "coadd_dataids = []\n",
    "for ref in butler.registry.queryDatasets('deepCoadd', collections=collection, instrument='LSSTComCam', band='i', skymap='lsst_cells_v1'):\n",
    "    coadd_dataids.append(ref.dataId)\n",
    "    count_repo += 1\n",
    "print(\"Total number of warps in the collection: \", count_repo)"
   ]
  },
  {
   "cell_type": "code",
   "execution_count": null,
   "id": "29edcd43-f8fe-4939-b005-3e56ccb6c0e4",
   "metadata": {},
   "outputs": [],
   "source": [
    "count_repo = 0\n",
    "cell_coadd_dataids = []\n",
    "for ref in butler.registry.queryDatasets('deepCoaddCell', collections=collection, instrument='LSSTComCam', band='i', skymap='lsst_cells_v1'):\n",
    "    cell_coadd_dataids.append(ref.dataId)\n",
    "    count_repo += 1\n",
    "print(\"Total number of warps in the collection: \", count_repo)"
   ]
  },
  {
   "cell_type": "code",
   "execution_count": null,
   "id": "cb8e3da6-4ddf-416e-bd3a-a9f3f35ff5f3",
   "metadata": {},
   "outputs": [],
   "source": [
    "set(coadd_dataids)-set(cell_coadd_dataids)"
   ]
  },
  {
   "cell_type": "code",
   "execution_count": null,
   "id": "bd2c8555-0f84-4dd9-8f72-9f09a57d05eb",
   "metadata": {},
   "outputs": [],
   "source": [
    "coadd = butler.get('deepCoadd', \n",
    "                     collections = collection, \n",
    "                     instrument = 'LSSTComCam', \n",
    "                     skymap = 'lsst_cells_v1', \n",
    "                     tract = 5526, \n",
    "                     patch = 67,\n",
    "                     band = 'i',)"
   ]
  },
  {
   "cell_type": "code",
   "execution_count": null,
   "id": "e212dc7e-b2bf-4e20-a895-e9847b2ae001",
   "metadata": {},
   "outputs": [],
   "source": [
    "display1 = afwDisplay.Display(frame=1)\n",
    "display1.mtv(coadd.image)"
   ]
  },
  {
   "cell_type": "code",
   "execution_count": null,
   "id": "f8130a3d-2fb6-4179-9676-a794e6fb84c8",
   "metadata": {},
   "outputs": [],
   "source": [
    "coadd_log = butler.get('assembleCellCoadd_log', \n",
    "                     collections = collection, \n",
    "                     instrument = 'LSSTComCam', \n",
    "                     skymap = 'lsst_cells_v1', \n",
    "                     tract = 5526, \n",
    "                     patch = 9,\n",
    "                     band = 'i',)\n",
    "\n",
    "coadd_error = [log['message'] for log in coadd_log.dict() if log['levelname'] == 'ERROR']\n",
    "print(coadd_error)"
   ]
  },
  {
   "cell_type": "markdown",
   "id": "77ca155c-89b7-474f-8e22-33d87943b553",
   "metadata": {},
   "source": [
    "All but two of the missing cell-based coadds contains the `pop from an empty set` error.\n",
    "\n",
    "The only exceptions are (tract 5525, patch 11) and (tract 5526, patch 9) that has `No CCD from a warp found within a cell` error."
   ]
  },
  {
   "cell_type": "markdown",
   "id": "33f8997d-dab1-46a2-842e-57c39aa397db",
   "metadata": {},
   "source": [
    "#### Ensure no empty borders"
   ]
  },
  {
   "cell_type": "code",
   "execution_count": null,
   "id": "1ce49864-a456-467e-92c4-50cf97fd48df",
   "metadata": {},
   "outputs": [],
   "source": [
    "cell_coadd = butler.get('deepCoaddCell', \n",
    "                     collections = collection, \n",
    "                     instrument = 'LSSTComCam', \n",
    "                     skymap = 'lsst_cells_v1', \n",
    "                     tract = 5525, \n",
    "                     patch = 33,\n",
    "                     band = 'i',)\n",
    "\n",
    "plot_cell_inputs(cell_coadd, 5525, 33)"
   ]
  },
  {
   "cell_type": "markdown",
   "id": "37aafad1-03b4-4ed3-a1a1-05356ebfac96",
   "metadata": {},
   "source": [
    "### Fornax Field"
   ]
  },
  {
   "cell_type": "code",
   "execution_count": null,
   "id": "742121ac-86a6-4055-98ce-86e20269e5c7",
   "metadata": {},
   "outputs": [],
   "source": [
    "collection = 'u/mgorsuch/ComCam_Cells/fornax/20250219T025052Z'\n",
    "butler = Butler(repo, collections=[collection])\n",
    "registry = butler.registry"
   ]
  },
  {
   "cell_type": "code",
   "execution_count": null,
   "id": "e1a422b7-e91b-410f-972a-66c9e1c3c1d5",
   "metadata": {},
   "outputs": [],
   "source": [
    "count_repo = 0\n",
    "coadd_dataids = []\n",
    "for ref in butler.registry.queryDatasets('deepCoadd', collections=collection, instrument='LSSTComCam', band='i', skymap='lsst_cells_v1'):\n",
    "    coadd_dataids.append(ref.dataId)\n",
    "    count_repo += 1\n",
    "print(\"Total number of warps in the collection: \", count_repo)"
   ]
  },
  {
   "cell_type": "code",
   "execution_count": null,
   "id": "0923020a-f409-46ed-b2c1-fa8433c8dc4d",
   "metadata": {},
   "outputs": [],
   "source": [
    "count_repo = 0\n",
    "cell_coadd_dataids = []\n",
    "for ref in butler.registry.queryDatasets('deepCoaddCell', collections=collection, instrument='LSSTComCam', band='i', skymap='lsst_cells_v1'):\n",
    "    cell_coadd_dataids.append(ref.dataId)\n",
    "    count_repo += 1\n",
    "print(\"Total number of warps in the collection: \", count_repo)"
   ]
  },
  {
   "cell_type": "code",
   "execution_count": null,
   "id": "adf01bc1-c94c-4d33-a4a2-0211583a2407",
   "metadata": {},
   "outputs": [],
   "source": [
    "set(coadd_dataids)-set(cell_coadd_dataids)"
   ]
  },
  {
   "cell_type": "code",
   "execution_count": null,
   "id": "601c1dc2-7d0d-477f-a332-1914f4c1c352",
   "metadata": {},
   "outputs": [],
   "source": [
    "coadd = butler.get('deepCoadd', \n",
    "                     collections = collection, \n",
    "                     instrument = 'LSSTComCam', \n",
    "                     skymap = 'lsst_cells_v1', \n",
    "                     tract = 4218, \n",
    "                     patch = 25,\n",
    "                     band = 'i',)"
   ]
  },
  {
   "cell_type": "code",
   "execution_count": null,
   "id": "67a98219-a90a-462c-b67c-61983c1314ca",
   "metadata": {},
   "outputs": [],
   "source": [
    "display1 = afwDisplay.Display(frame=1)\n",
    "display1.mtv(coadd.image)"
   ]
  },
  {
   "cell_type": "code",
   "execution_count": null,
   "id": "2c90e9c7-bbfc-463f-b3ef-12a142ccfb85",
   "metadata": {},
   "outputs": [],
   "source": [
    "coadd_log = butler.get('assembleCellCoadd_log', \n",
    "                     collections = collection, \n",
    "                     instrument = 'LSSTComCam', \n",
    "                     skymap = 'lsst_cells_v1', \n",
    "                     tract = 4218, \n",
    "                     patch = 25,\n",
    "                     band = 'i',)\n",
    "\n",
    "coadd_error = [log['message'] for log in coadd_log.dict() if log['levelname'] == 'ERROR']\n",
    "print(coadd_error)"
   ]
  },
  {
   "cell_type": "markdown",
   "id": "51909067-9c51-4896-b972-10d7876b1619",
   "metadata": {},
   "source": [
    "All but one of the missing cell-based coadds contains the `pop from an empty set` error.\n",
    "\n",
    "The exceptions is (tract 4016, patch 72) that has `No CCD from a warp found within a cell` error."
   ]
  },
  {
   "cell_type": "markdown",
   "id": "b9338169-8bcc-425a-b701-9eec49c2248c",
   "metadata": {},
   "source": [
    "#### Ensure no empty borders"
   ]
  },
  {
   "cell_type": "code",
   "execution_count": null,
   "id": "35fbb653-e271-455e-9100-b41566cef728",
   "metadata": {},
   "outputs": [],
   "source": [
    "cell_coadd = butler.get('deepCoaddCell', \n",
    "                     collections = collection, \n",
    "                     instrument = 'LSSTComCam', \n",
    "                     skymap = 'lsst_cells_v1', \n",
    "                     tract = 4016, \n",
    "                     patch = 50,\n",
    "                     band = 'i',)\n",
    "\n",
    "plot_cell_inputs(cell_coadd, 4016, 50)"
   ]
  },
  {
   "cell_type": "markdown",
   "id": "593eb4bc-f3f4-4be1-adc8-0ae794877c6f",
   "metadata": {},
   "source": [
    "### 47_tuc Field"
   ]
  },
  {
   "cell_type": "code",
   "execution_count": null,
   "id": "4f910de8-3e9c-4d1e-aa32-09baef3e2c98",
   "metadata": {},
   "outputs": [],
   "source": [
    "collection = 'u/mgorsuch/ComCam_Cells/47_Tuc/20250219T025226Z'\n",
    "butler = Butler(repo, collections=[collection])\n",
    "registry = butler.registry"
   ]
  },
  {
   "cell_type": "code",
   "execution_count": null,
   "id": "b0ff6fc5-9ded-45d2-8be0-9513adf49c89",
   "metadata": {},
   "outputs": [],
   "source": [
    "count_repo = 0\n",
    "coadd_dataids = []\n",
    "for ref in butler.registry.queryDatasets('deepCoadd', collections=collection, instrument='LSSTComCam', band='i', skymap='lsst_cells_v1'):\n",
    "    coadd_dataids.append(ref.dataId)\n",
    "    count_repo += 1\n",
    "print(\"Total number of warps in the collection: \", count_repo)"
   ]
  },
  {
   "cell_type": "code",
   "execution_count": null,
   "id": "475316da-f240-40b5-95ef-739242973ee5",
   "metadata": {},
   "outputs": [],
   "source": [
    "count_repo = 0\n",
    "cell_coadd_dataids = []\n",
    "for ref in butler.registry.queryDatasets('deepCoaddCell', collections=collection, instrument='LSSTComCam', band='i', skymap='lsst_cells_v1'):\n",
    "    cell_coadd_dataids.append(ref.dataId)\n",
    "    count_repo += 1\n",
    "print(\"Total number of warps in the collection: \", count_repo)"
   ]
  },
  {
   "cell_type": "code",
   "execution_count": null,
   "id": "cc33ec86-7eb2-483f-b098-4cafca9c986d",
   "metadata": {},
   "outputs": [],
   "source": [
    "set(coadd_dataids)-set(cell_coadd_dataids)"
   ]
  },
  {
   "cell_type": "code",
   "execution_count": null,
   "id": "049bea3c-967a-4fb5-a9dc-50085258abf0",
   "metadata": {},
   "outputs": [],
   "source": [
    "coadd = butler.get('deepCoadd', \n",
    "                     collections = collection, \n",
    "                     instrument = 'LSSTComCam', \n",
    "                     skymap = 'lsst_cells_v1', \n",
    "                     tract = 453, \n",
    "                     patch = 56,\n",
    "                     band = 'i',)"
   ]
  },
  {
   "cell_type": "code",
   "execution_count": null,
   "id": "16200052-dfb5-4aad-baec-5d2f6330a40c",
   "metadata": {},
   "outputs": [],
   "source": [
    "display1 = afwDisplay.Display(frame=1)\n",
    "display1.mtv(coadd.image)"
   ]
  },
  {
   "cell_type": "code",
   "execution_count": null,
   "id": "8681e966-8807-4c00-bf13-fe4d2e336d97",
   "metadata": {},
   "outputs": [],
   "source": [
    "coadd_log = butler.get('assembleCellCoadd_log', \n",
    "                     collections = collection, \n",
    "                     instrument = 'LSSTComCam', \n",
    "                     skymap = 'lsst_cells_v1', \n",
    "                     tract = 453, \n",
    "                     patch = 56,\n",
    "                     band = 'i',)\n",
    "\n",
    "coadd_error = [log['message'] for log in coadd_log.dict() if log['levelname'] == 'ERROR']\n",
    "print(coadd_error)"
   ]
  },
  {
   "cell_type": "markdown",
   "id": "b64b6d30-8da4-47cf-b527-5409ffc38bd5",
   "metadata": {},
   "source": [
    "Two of the missing cell-based coadds contains the `pop from an empty set` error.\n",
    "\n",
    "The only exception is (tract 453, patch 56) that has `No CCD from a warp found within a cell` error."
   ]
  },
  {
   "cell_type": "markdown",
   "id": "91dec0a6-a4b4-4d37-a8cc-2549af5523d5",
   "metadata": {},
   "source": [
    "#### Ensure no empty borders"
   ]
  },
  {
   "cell_type": "code",
   "execution_count": null,
   "id": "0bafd99b-1d8e-48b9-8949-2deda845f392",
   "metadata": {},
   "outputs": [],
   "source": [
    "cell_coadd = butler.get('deepCoaddCell', \n",
    "                     collections = collection, \n",
    "                     instrument = 'LSSTComCam', \n",
    "                     skymap = 'lsst_cells_v1', \n",
    "                     tract = 453, \n",
    "                     patch = 42,\n",
    "                     band = 'i',)\n",
    "\n",
    "plot_cell_inputs(cell_coadd, 453, 42)"
   ]
  },
  {
   "cell_type": "code",
   "execution_count": null,
   "id": "70a5e15c-346a-4db0-bdc4-bcb817adad4a",
   "metadata": {},
   "outputs": [],
   "source": []
  }
 ],
 "metadata": {
  "kernelspec": {
   "display_name": "LSST",
   "language": "python",
   "name": "lsst"
  },
  "language_info": {
   "codemirror_mode": {
    "name": "ipython",
    "version": 3
   },
   "file_extension": ".py",
   "mimetype": "text/x-python",
   "name": "python",
   "nbconvert_exporter": "python",
   "pygments_lexer": "ipython3",
   "version": "3.11.9"
  }
 },
 "nbformat": 4,
 "nbformat_minor": 5
}
