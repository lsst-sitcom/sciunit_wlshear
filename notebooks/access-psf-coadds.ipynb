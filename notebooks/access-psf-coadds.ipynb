{
 "cells": [
  {
   "cell_type": "markdown",
   "id": "d0c04e77-335e-4f28-925b-5d7fb09a9823",
   "metadata": {},
   "source": [
    "# Access PSF information from coadds\n",
    "\n",
    "Created by: Miranda Gorsuch\n",
    "\n",
    "This notebook  a brief example of accessing the PSF information from both default and cell-based coadds.\n",
    "\n",
    "LSST Science Piplines version: Weekly 2025_15\n",
    "\n",
    "Container Size: small (4 GB)"
   ]
  },
  {
   "cell_type": "markdown",
   "id": "1f0dbcbf-bdff-4d4f-b4c3-07a37efd7da4",
   "metadata": {},
   "source": [
    "## Imports & Definitions"
   ]
  },
  {
   "cell_type": "code",
   "execution_count": null,
   "id": "564c97ab-f4ad-49be-bf17-28e01ca3a572",
   "metadata": {},
   "outputs": [],
   "source": [
    "from lsst.daf.butler import Butler\n",
    "from lsst.skymap import Index2D\n",
    "import numpy as np\n",
    "from matplotlib import pyplot as plt\n",
    "import pandas as pd\n",
    "import gc\n",
    "\n",
    "%matplotlib inline\n",
    "\n",
    "from lsst.skymap import Index2D\n",
    "import lsst.afw.geom as afwGeom\n",
    "import lsst.afw.math as afwMath\n",
    "import lsst.geom as geom\n",
    "from lsst.geom import Point2D\n",
    "import lsst.meas.algorithms as meas\n",
    "\n",
    "from lsst.afw.geom.ellipses import Quadrupole, SeparableDistortionTraceRadius\n",
    "\n",
    "REPO = '/repo/main'\n",
    "\n",
    "comcam_dataId = {'instrument': 'LSSTComCam', \n",
    "                 'skymap': 'lsst_cells_v1',}"
   ]
  },
  {
   "cell_type": "markdown",
   "id": "80928c05-c517-4b68-ab46-cfa884096ac1",
   "metadata": {},
   "source": [
    "## Default Coadds"
   ]
  },
  {
   "cell_type": "code",
   "execution_count": null,
   "id": "bba5a835-4541-4f18-b8f7-dc6d93b95f69",
   "metadata": {},
   "outputs": [],
   "source": [
    "collection = 'LSSTComCam/runs/DRP/DP1/w_2025_10/DM-49359'\n",
    "butler = Butler(REPO, collections=[collection])\n",
    "registry = butler.registry"
   ]
  },
  {
   "cell_type": "markdown",
   "id": "c654b500-d4e6-43e8-a6fe-f21a0da6c81d",
   "metadata": {},
   "source": [
    "Generate a list of available coadds in the collection"
   ]
  },
  {
   "cell_type": "code",
   "execution_count": null,
   "id": "1a80a0ae-7bc4-4a59-827f-b8c3f3eb7d5c",
   "metadata": {},
   "outputs": [],
   "source": [
    "for ref in butler.registry.queryDatasets('deepCoadd', collections=collection, instrument=comcam_dataId['instrument'], skymap=comcam_dataId['skymap'], band='i'):\n",
    "    print(ref.dataId)"
   ]
  },
  {
   "cell_type": "markdown",
   "id": "2e7907f7-4f25-45f8-b60e-1b96ea36fc61",
   "metadata": {},
   "source": [
    "Load in the example coadd information"
   ]
  },
  {
   "cell_type": "code",
   "execution_count": null,
   "id": "b8cf04c2-f0d6-4f84-bd67-8e2af7d11749",
   "metadata": {},
   "outputs": [],
   "source": [
    "# this loads in the entire coadd\n",
    "# coadd = cell_butler.get('deepCoadd', \n",
    "#                          collections = collection, \n",
    "#                          instrument = 'LSSTComCam', \n",
    "#                          skymap = 'lsst_cells_v1', \n",
    "#                          tract = 10704, \n",
    "#                          patch = 5,\n",
    "#                          band = 'i',)\n",
    "\n",
    "# load in just the coadd PSF information\n",
    "coadd_psf = butler.get('deepCoadd.psf', \n",
    "                         collections = collection, \n",
    "                         instrument = 'LSSTComCam', \n",
    "                         skymap = 'lsst_cells_v1', \n",
    "                         tract = 10704, \n",
    "                         patch = 5,\n",
    "                         band = 'i',)\n",
    "\n",
    "# load in the bbox information\n",
    "coadd_bbox = butler.get('deepCoadd.bbox', \n",
    "                         collections = collection, \n",
    "                         instrument = 'LSSTComCam', \n",
    "                         skymap = 'lsst_cells_v1', \n",
    "                         tract = 10704, \n",
    "                         patch = 5,\n",
    "                         band = 'i',)"
   ]
  },
  {
   "cell_type": "markdown",
   "id": "d1c5b824-6447-4172-852e-8b7d91789d13",
   "metadata": {},
   "source": [
    "Find an example point"
   ]
  },
  {
   "cell_type": "code",
   "execution_count": null,
   "id": "aa94b4e5-45cc-4e34-8c92-e0e1d2ecf25a",
   "metadata": {},
   "outputs": [],
   "source": [
    "coadd_bbox.getCorners()"
   ]
  },
  {
   "cell_type": "code",
   "execution_count": null,
   "id": "d796b2e4-f148-49bc-b888-b295bc6d1bb9",
   "metadata": {},
   "outputs": [],
   "source": [
    "# picking some arbitrary point within the corners\n",
    "shape = coadd_psf.computeShape(Point2D(15000, 1000))\n",
    "\n",
    "# various PSF values\n",
    "trace_radius = shape.getTraceRadius()\n",
    "i_xx, i_yy, i_xy = shape.getIxx(), shape.getIyy(), shape.getIxy()\n",
    "\n",
    "q = Quadrupole(i_xx, i_yy, i_xy)\n",
    "s = SeparableDistortionTraceRadius(q)\n",
    "\n",
    "e1, e2 = s.getE1(), s.getE2()\n",
    "theta = np.arctan2(e2, e1)"
   ]
  },
  {
   "cell_type": "code",
   "execution_count": null,
   "id": "2b346c78-ffaa-42a9-8c4a-a6a3be66ee45",
   "metadata": {},
   "outputs": [],
   "source": [
    "print(f\"Trace radius: {trace_radius}\")\n",
    "print(f\"Second moments (I_xx, I_yy, and I_xy): {i_xx}, {i_yy}, {i_xy}\")\n",
    "print(f\"e1, e2: {e1}, {e2}\")\n",
    "print(f\"Theta: {theta}\")"
   ]
  },
  {
   "cell_type": "markdown",
   "id": "76218ef5-f6c1-4051-bd82-7fc7f690fa48",
   "metadata": {},
   "source": [
    "For a more thorough tutorial on PSF functions, see https://nbviewer.org/github/LSSTScienceCollaborations/StackClub/blob/rendered/Validation/image_quality_demo.nbconvert.ipynb"
   ]
  },
  {
   "cell_type": "markdown",
   "id": "31aeac3c-69c0-4311-8699-c1d77e880728",
   "metadata": {},
   "source": [
    "## Cell-Based Coadds"
   ]
  },
  {
   "cell_type": "markdown",
   "id": "e34b77b5-4e28-4a07-8c9d-8283358dda5b",
   "metadata": {},
   "source": [
    "Additional collections for cell-based coadds:\n",
    "- ECDFS: `'u/mgorsuch/ComCam_Cells/ECDFS/20250217T221024Z'`\n",
    "- EDFS:  `'u/mgorsuch/ComCam_Cells/EDFS/20250214T210850Z'`\n",
    "- Rubin SV 95 -25: `'u/mgorsuch/ComCam_Cells/Rubin_SV_95_25/20250219T024719Z'`\n",
    "- Fornax: `'u/mgorsuch/ComCam_Cells/fornax/20250219T025052Z'`\n",
    "- 47_tuc: `'u/mgorsuch/ComCam_Cells/47_Tuc/20250219T025226Z'`"
   ]
  },
  {
   "cell_type": "code",
   "execution_count": null,
   "id": "bea7735d-0b9d-4b88-a4ef-388afcab3edb",
   "metadata": {},
   "outputs": [],
   "source": [
    "cell_collection = 'u/mgorsuch/ComCam_Cells/Rubin_SV_38_7/20250214T210230Z'\n",
    "cell_butler = Butler(REPO, collections=[cell_collection])\n",
    "cell_registry = cell_butler.registry"
   ]
  },
  {
   "cell_type": "markdown",
   "id": "d40f63fa-1af7-4694-855d-b5589068948c",
   "metadata": {},
   "source": [
    "### For an individual cell within a patch"
   ]
  },
  {
   "cell_type": "markdown",
   "id": "28b38aec-1768-4b08-8098-9d1374f5d46a",
   "metadata": {},
   "source": [
    "The `.psf` trick used in the default coadds is not available for cell-based coadds. Read the coadd of an example patch in."
   ]
  },
  {
   "cell_type": "code",
   "execution_count": null,
   "id": "3d222c51-cfdd-4e69-9c96-90567f81fddb",
   "metadata": {},
   "outputs": [],
   "source": [
    "cell_coadd = cell_butler.get('deepCoaddCell', \n",
    "                             collections = cell_collection, \n",
    "                             instrument = 'LSSTComCam', \n",
    "                             skymap = 'lsst_cells_v1', \n",
    "                             tract = 10704, \n",
    "                             patch = 5,\n",
    "                             band = 'i',)"
   ]
  },
  {
   "cell_type": "markdown",
   "id": "3f29f631-71f9-4aa4-8ba6-ee72ccb61275",
   "metadata": {},
   "source": [
    "The warning above is indicating these coadds are slightly outdated and do not have aperture correction information."
   ]
  },
  {
   "cell_type": "code",
   "execution_count": null,
   "id": "066297e5-1b50-4e77-b895-65896833da9d",
   "metadata": {},
   "outputs": [],
   "source": [
    "# define one of the cells\n",
    "test_cell = cell_coadd.cells[Index2D(x=2,y=15)]"
   ]
  },
  {
   "cell_type": "code",
   "execution_count": null,
   "id": "266d871b-524d-411a-890e-5cb45caf5334",
   "metadata": {},
   "outputs": [],
   "source": [
    "# to see what cell indices are available run \n",
    "# printlist(cell_coadd.cells.keys())"
   ]
  },
  {
   "cell_type": "markdown",
   "id": "850f8ffb-d743-4fda-b619-b41934e5d13c",
   "metadata": {},
   "source": [
    "Retrieve the PSF information from the cell. "
   ]
  },
  {
   "cell_type": "code",
   "execution_count": null,
   "id": "f1460011-148d-450f-8d37-da3a75481176",
   "metadata": {},
   "outputs": [],
   "source": [
    "# retrieve the psf\n",
    "psf_im = test_cell.psf_image\n",
    "\n",
    "# define a PSF kernel from the PSF image\n",
    "psf_kernel = afwMath.FixedKernel(psf_im)\n",
    "psf = meas.KernelPsf(psf_kernel)\n",
    "shape = psf.computeShape(psf_im.getBBox().getCenter())\n",
    "\n",
    "# various useful functions\n",
    "trace_radius = shape.getTraceRadius()\n",
    "i_xx, i_yy, i_xy = shape.getIxx(), shape.getIyy(), shape.getIxy()\n",
    "\n",
    "q = Quadrupole(i_xx, i_yy, i_xy)\n",
    "s = SeparableDistortionTraceRadius(q)\n",
    "\n",
    "e1, e2 = s.getE1(), s.getE2()\n",
    "theta = np.arctan2(e2, e1)"
   ]
  },
  {
   "cell_type": "markdown",
   "id": "5cdc1bbc-a36f-457e-b932-26d4678ad3d7",
   "metadata": {
    "execution": {
     "iopub.execute_input": "2025-04-08T23:19:41.680183Z",
     "iopub.status.busy": "2025-04-08T23:19:41.679955Z",
     "iopub.status.idle": "2025-04-08T23:19:41.683979Z",
     "shell.execute_reply": "2025-04-08T23:19:41.683520Z",
     "shell.execute_reply.started": "2025-04-08T23:19:41.680167Z"
    }
   },
   "source": [
    "### For cells across multiple tracts"
   ]
  },
  {
   "cell_type": "code",
   "execution_count": null,
   "id": "5d7b4ccd-1728-444d-91d0-59d76dc7a3b0",
   "metadata": {},
   "outputs": [],
   "source": [
    "'''\n",
    "Retrieves the unique tract/patch combiations within a specified collection.\n",
    "\n",
    "-- Inputs --\n",
    "\n",
    "butler: Butler object\n",
    "collection: the relevant collection containing cell-based coadds of interest\n",
    "data_kwargs: dictionary of specific instrument and skymap used for butler query\n",
    "\n",
    "-- Returns --\n",
    "\n",
    "field_quanta: pandas DataFrame with columns for available tract and patch IDs within collection\n",
    "'''\n",
    "def get_field_info(butler, collection, data_kwargs):\n",
    "    # field_quanta = [] # collection of tract, patch available in collection\n",
    "    field_quanta = pd.DataFrame()\n",
    "    tracts = []\n",
    "    patches = []\n",
    "    \n",
    "    for ref in butler.registry.queryDatasets('deepCoaddCell',\n",
    "                                                 band='i',\n",
    "                                                 collections=collection,\n",
    "                                                 instrument = data_kwargs['instrument'],\n",
    "                                                 skymap = data_kwargs['skymap'],):\n",
    "        \n",
    "        tracts.append(ref.dataId.get('tract'))\n",
    "        patches.append(ref.dataId.get('patch'))\n",
    "\n",
    "    field_quanta['tract'] = tracts\n",
    "    field_quanta['patch'] = patches\n",
    "\n",
    "    return field_quanta"
   ]
  },
  {
   "cell_type": "code",
   "execution_count": null,
   "id": "e3da11ff-0c76-4c86-8490-06ec5d0d97be",
   "metadata": {},
   "outputs": [],
   "source": [
    "'''\n",
    "Retrieve the total number of cells from your input collection\n",
    "\n",
    "-- Inputs --\n",
    "\n",
    "field_data: pandas DataFrame containing tract/patch combinations of interest\n",
    "butler: Butler object\n",
    "collection: the relevant collection containing cell-based coadds of interest\n",
    "data_kwargs: dictionary of specific instrument and skymap used for butler query\n",
    "\n",
    "-- Returns --\n",
    "\n",
    "cell_count: number of cells with inputs in specified field data\n",
    "\n",
    "NOTE: DOES include duplicate cells due to overlap of patches/tracts\n",
    "'''\n",
    "def get_cell_count(field_data, butler, collection, data_kwargs):\n",
    "\n",
    "    cell_count = 0\n",
    "    \n",
    "    for patch_index, field in field_data.iterrows():\n",
    "    \n",
    "        coadd = butler.get('deepCoaddCell', \n",
    "                           collections=collection, \n",
    "                           instrument=data_kwargs['instrument'],\n",
    "                           skymap = data_kwargs['skymap'],\n",
    "                           tract=field['tract'], \n",
    "                           patch=field['patch'],\n",
    "                           band='i',)\n",
    "    \n",
    "        cells = len(list(coadd.cells.keys())) # get number of non-empty cells\n",
    "        cell_count += cells\n",
    "        del coadd\n",
    "        gc.collect()\n",
    "\n",
    "    return cell_count"
   ]
  },
  {
   "cell_type": "code",
   "execution_count": null,
   "id": "dd45c83e-1df0-4971-b891-eb5550aabc46",
   "metadata": {},
   "outputs": [],
   "source": [
    "'''\n",
    "Iterates through cells in each patch to collect cell PSF infromation in a DataFrame.\n",
    "\n",
    "-- Inputs --\n",
    "\n",
    "field_data: pandas DataFrame containing tract/patch combinations of interest\n",
    "butler: Butler object\n",
    "collection: the relevant collection containing cell-based coadds of interest\n",
    "data_kwargs: dictionary of specific instrument and skymap used for butler query\n",
    "\n",
    "-- Returns --\n",
    "\n",
    "data_df: pandas DataFrame containing PSF information for each cell.\n",
    "'''\n",
    "def get_cell_data(field_data, butler, collection, data_kwargs):\n",
    "\n",
    "    cell_num = get_cell_count(field_data, butler, collection, data_kwargs)\n",
    "    # can set manually to avoid running above function again\n",
    "    # cell_num = 56260 \n",
    "    print('cell num: ', cell_num)\n",
    "    print('cell count (done)')\n",
    "\n",
    "    # define length of dataframe ahead of time, for speed\n",
    "    data_df = pd.DataFrame(index=range(cell_num),\n",
    "                           columns=['tract', \n",
    "                                    'patch', \n",
    "                                    'x_index', \n",
    "                                    'y_index', \n",
    "                                    'ra', \n",
    "                                    'dec', \n",
    "                                    'trace_radius', \n",
    "                                    'e1', \n",
    "                                    'e2', \n",
    "                                    'theta'])\n",
    "\n",
    "    \n",
    "    for patch_index, field in field_data.iterrows():\n",
    "    \n",
    "        coadd = butler.get('deepCoaddCell', \n",
    "                         collections=collection, \n",
    "                         instrument=data_kwargs['instrument'],\n",
    "                         skymap = data_kwargs['skymap'], \n",
    "                         tract=field['tract'], \n",
    "                         patch=field['patch'],\n",
    "                         band='i',)\n",
    "\n",
    "        wcs = coadd.wcs\n",
    "    \n",
    "        cell_list = list(coadd.cells.keys()) # skips empty cell indices\n",
    "    \n",
    "        for cell_index in cell_list:\n",
    "    \n",
    "            cell = coadd.cells[cell_index]\n",
    "\n",
    "            x_index = cell_index.x\n",
    "            y_index = cell_index.y\n",
    "\n",
    "            # collect cell center location\n",
    "            # primarily used for removing duplicates due to patch overlap\n",
    "            cell_center = cell.inner.bbox.getCenter()\n",
    "            cell_center_coord = wcs.pixelToSky(cell_center)\n",
    "\n",
    "            psf_im = cell.psf_image\n",
    "\n",
    "            psf_kernel = afwMath.FixedKernel(psf_im)\n",
    "            psf = meas.KernelPsf(psf_kernel)\n",
    "            shape = psf.computeShape(psf_im.getBBox().getCenter())\n",
    "            \n",
    "            trace_radius = shape.getTraceRadius()\n",
    "            i_xx, i_yy, i_xy = shape.getIxx(), shape.getIyy(), shape.getIxy()\n",
    "            \n",
    "            q = Quadrupole(i_xx, i_yy, i_xy)\n",
    "            s = SeparableDistortionTraceRadius(q)\n",
    "            \n",
    "            e1, e2 = s.getE1(), s.getE2()\n",
    "            theta = np.arctan2(e2, e1)\n",
    "\n",
    "            data = [field['tract'],\n",
    "                    field['patch'],\n",
    "                    x_index, \n",
    "                    y_index, \n",
    "                    cell_center_coord[0].asDegrees(), \n",
    "                    cell_center_coord[1].asDegrees(),\n",
    "                    trace_radius,\n",
    "                    e1,\n",
    "                    e2,\n",
    "                    theta]\n",
    "\n",
    "            data_df.loc[data_df[data_df.tract.isnull()].index[0]] = data\n",
    "            \n",
    "        coadd = 0\n",
    "        # gc.collect()\n",
    "        if (patch_index%5)==0:\n",
    "            gc.collect()\n",
    "\n",
    "    # drop extra unused rows, if any\n",
    "    data_df = data_df.dropna()\n",
    "\n",
    "    # calculate quantities derived from other columns\n",
    "    data_df['e'] = np.sqrt(np.add(np.square(data_df['e1'].astype(np.float64)), np.square(data_df['e2'].astype(np.float64))))\n",
    "    data_df['x_vec'] = data_df['e'] * np.cos(data_df['theta'].astype(np.float64))\n",
    "    data_df['y_vec'] = data_df['e'] * np.sin(data_df['theta'].astype(np.float64))\n",
    "    \n",
    "    # remove overlapping cells due to patch overlap    \n",
    "    data_df = data_df.drop_duplicates(subset=['ra', 'dec'])\n",
    "    gc.collect()\n",
    "\n",
    "    return data_df"
   ]
  },
  {
   "cell_type": "markdown",
   "id": "3e9bca41-5d72-4126-a9e5-4a6ebc1b2996",
   "metadata": {
    "execution": {
     "iopub.execute_input": "2025-04-10T21:18:30.077948Z",
     "iopub.status.busy": "2025-04-10T21:18:30.077618Z",
     "iopub.status.idle": "2025-04-10T21:18:30.081484Z",
     "shell.execute_reply": "2025-04-10T21:18:30.080862Z",
     "shell.execute_reply.started": "2025-04-10T21:18:30.077925Z"
    }
   },
   "source": [
    "Run the functions.\n",
    "\n",
    "The `cell_count` part takes ~8 minutes, but for this example can be set to 56260 to skip running. The rest is ~9 minutes.\n",
    "\n",
    "(may want to collapse output in a notebook)"
   ]
  },
  {
   "cell_type": "code",
   "execution_count": null,
   "id": "7f4dd2bb-339e-42a3-acb6-f18101fc8498",
   "metadata": {},
   "outputs": [],
   "source": [
    "field_info = get_field_info(cell_butler, cell_collection, comcam_dataId)\n",
    "psf_df = get_cell_data(field_info, cell_butler, cell_collection, comcam_dataId)"
   ]
  },
  {
   "cell_type": "code",
   "execution_count": null,
   "id": "53c39b90-dded-43ae-9f84-b956dcd602fe",
   "metadata": {},
   "outputs": [],
   "source": []
  }
 ],
 "metadata": {
  "kernelspec": {
   "display_name": "LSST",
   "language": "python",
   "name": "lsst"
  },
  "language_info": {
   "codemirror_mode": {
    "name": "ipython",
    "version": 3
   },
   "file_extension": ".py",
   "mimetype": "text/x-python",
   "name": "python",
   "nbconvert_exporter": "python",
   "pygments_lexer": "ipython3",
   "version": "3.12.9"
  }
 },
 "nbformat": 4,
 "nbformat_minor": 5
}
