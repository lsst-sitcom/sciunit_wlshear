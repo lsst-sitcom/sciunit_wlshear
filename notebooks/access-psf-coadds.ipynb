{
 "cells": [
  {
   "cell_type": "markdown",
   "id": "d0c04e77-335e-4f28-925b-5d7fb09a9823",
   "metadata": {},
   "source": [
    "# Access PSF information from coadds\n",
    "\n",
    "Created by: Miranda Gorsuch\n",
    "\n",
    "This notebook  a brief example of accessing the PSF information from both default and cell-based coadds.\n",
    "\n",
    "LSST Science Piplines version: Weekly 2025_15\n",
    "\n",
    "Container Size: small (4 GB)"
   ]
  },
  {
   "cell_type": "markdown",
   "id": "1f0dbcbf-bdff-4d4f-b4c3-07a37efd7da4",
   "metadata": {},
   "source": [
    "## Imports & Definitions"
   ]
  },
  {
   "cell_type": "code",
   "execution_count": 1,
   "id": "564c97ab-f4ad-49be-bf17-28e01ca3a572",
   "metadata": {
    "execution": {
     "iopub.execute_input": "2025-04-10T21:25:34.354246Z",
     "iopub.status.busy": "2025-04-10T21:25:34.354123Z",
     "iopub.status.idle": "2025-04-10T21:25:37.141038Z",
     "shell.execute_reply": "2025-04-10T21:25:37.140536Z",
     "shell.execute_reply.started": "2025-04-10T21:25:34.354232Z"
    }
   },
   "outputs": [],
   "source": [
    "from lsst.daf.butler import Butler\n",
    "from lsst.skymap import Index2D\n",
    "import numpy as np\n",
    "from matplotlib import pyplot as plt\n",
    "import pandas as pd\n",
    "import gc\n",
    "\n",
    "%matplotlib inline\n",
    "\n",
    "from lsst.skymap import Index2D\n",
    "import lsst.afw.geom as afwGeom\n",
    "import lsst.afw.math as afwMath\n",
    "import lsst.geom as geom\n",
    "import lsst.meas.algorithms as meas\n",
    "\n",
    "from lsst.afw.geom.ellipses import Quadrupole, SeparableDistortionTraceRadius\n",
    "\n",
    "REPO = '/repo/main'"
   ]
  },
  {
   "cell_type": "markdown",
   "id": "80928c05-c517-4b68-ab46-cfa884096ac1",
   "metadata": {},
   "source": [
    "## Default Coadds"
   ]
  },
  {
   "cell_type": "code",
   "execution_count": 2,
   "id": "bba5a835-4541-4f18-b8f7-dc6d93b95f69",
   "metadata": {
    "execution": {
     "iopub.execute_input": "2025-04-10T21:25:37.157972Z",
     "iopub.status.busy": "2025-04-10T21:25:37.157834Z",
     "iopub.status.idle": "2025-04-10T21:25:37.658577Z",
     "shell.execute_reply": "2025-04-10T21:25:37.658114Z",
     "shell.execute_reply.started": "2025-04-10T21:25:37.157957Z"
    }
   },
   "outputs": [],
   "source": [
    "collection = 'LSSTComCam/runs/DRP/DP1/w_2025_06/DM-48810'\n",
    "butler = Butler(REPO, collections=[collection])\n",
    "registry = butler.registry"
   ]
  },
  {
   "cell_type": "markdown",
   "id": "31aeac3c-69c0-4311-8699-c1d77e880728",
   "metadata": {},
   "source": [
    "## Cell-Based Coadds"
   ]
  },
  {
   "cell_type": "markdown",
   "id": "e34b77b5-4e28-4a07-8c9d-8283358dda5b",
   "metadata": {},
   "source": [
    "Additional collections for cell-based coadds:\n",
    "- ECDFS: `'u/mgorsuch/ComCam_Cells/ECDFS/20250217T221024Z'`\n",
    "- EDFS:  `'u/mgorsuch/ComCam_Cells/EDFS/20250214T210850Z'`\n",
    "- Rubin SV 95 -25: `'u/mgorsuch/ComCam_Cells/Rubin_SV_95_25/20250219T024719Z'`\n",
    "- Fornax: `'u/mgorsuch/ComCam_Cells/fornax/20250219T025052Z'`\n",
    "- 47_tuc: `'u/mgorsuch/ComCam_Cells/47_Tuc/20250219T025226Z'`"
   ]
  },
  {
   "cell_type": "code",
   "execution_count": 3,
   "id": "bea7735d-0b9d-4b88-a4ef-388afcab3edb",
   "metadata": {
    "execution": {
     "iopub.execute_input": "2025-04-10T21:25:37.947642Z",
     "iopub.status.busy": "2025-04-10T21:25:37.947082Z",
     "iopub.status.idle": "2025-04-10T21:25:38.200474Z",
     "shell.execute_reply": "2025-04-10T21:25:38.199981Z",
     "shell.execute_reply.started": "2025-04-10T21:25:37.947624Z"
    }
   },
   "outputs": [],
   "source": [
    "cell_collection = 'u/mgorsuch/ComCam_Cells/Rubin_SV_38_7/20250214T210230Z'\n",
    "cell_butler = Butler(REPO, collections=[cell_collection])\n",
    "cell_registry = cell_butler.registry"
   ]
  },
  {
   "cell_type": "code",
   "execution_count": 4,
   "id": "531809a2-ba3f-4200-b762-9b4a86d208fc",
   "metadata": {
    "execution": {
     "iopub.execute_input": "2025-04-10T21:25:39.172620Z",
     "iopub.status.busy": "2025-04-10T21:25:39.172364Z",
     "iopub.status.idle": "2025-04-10T21:25:39.175203Z",
     "shell.execute_reply": "2025-04-10T21:25:39.174801Z",
     "shell.execute_reply.started": "2025-04-10T21:25:39.172601Z"
    }
   },
   "outputs": [],
   "source": [
    "comcam_dataId = {'instrument': 'LSSTComCam', \n",
    "                 'skymap': 'lsst_cells_v1',}"
   ]
  },
  {
   "cell_type": "markdown",
   "id": "d40f63fa-1af7-4694-855d-b5589068948c",
   "metadata": {},
   "source": [
    "### For an individual cell within a patch"
   ]
  },
  {
   "cell_type": "markdown",
   "id": "28b38aec-1768-4b08-8098-9d1374f5d46a",
   "metadata": {},
   "source": [
    "The `.psf` trick used in the default coadds is not available for cell-based coadds. Read the coadd of an example patch in."
   ]
  },
  {
   "cell_type": "code",
   "execution_count": 5,
   "id": "3d222c51-cfdd-4e69-9c96-90567f81fddb",
   "metadata": {
    "execution": {
     "iopub.execute_input": "2025-04-10T21:25:40.115062Z",
     "iopub.status.busy": "2025-04-10T21:25:40.114697Z",
     "iopub.status.idle": "2025-04-10T21:25:42.974409Z",
     "shell.execute_reply": "2025-04-10T21:25:42.973962Z",
     "shell.execute_reply.started": "2025-04-10T21:25:40.115047Z"
    }
   },
   "outputs": [
    {
     "data": {
      "text/html": [
       "<pre style=\"margin: 0.1em;\n",
       "padding-left: 0.25em;\n",
       "border-left-style: solid;\n",
       "font-family: var(--jp-code-font-family);\n",
       "font-size: var(--jp-code-font-size);\n",
       "line-height: var(--jp-code-line-height);\n",
       "\"><span style=\"color: var(--jp-warn-color2)\">lsst.cell_coadds._fits</span> <span style=\"color: var(--jp-info-color0)\">INFO</span>: Reading /sdf/group/rubin/repo/main/u/mgorsuch/ComCam_Cells/Rubin_SV_38_7/20250214T210230Z/deepCoaddCell/10704/5/i/deepCoaddCell_10704_5_i_lsst_cells_v1_u_mgorsuch_ComCam_Cells_Rubin_SV_38_7_20250214T210230Z.fits having version 0.3 with reader designed for 0.4</pre>"
      ],
      "text/plain": [
       "<IPython.core.display.HTML object>"
      ]
     },
     "metadata": {},
     "output_type": "display_data"
    },
    {
     "data": {
      "text/html": [
       "<pre style=\"margin: 0.1em;\n",
       "padding-left: 0.25em;\n",
       "border-left-style: solid;\n",
       "font-family: var(--jp-code-font-family);\n",
       "font-size: var(--jp-code-font-size);\n",
       "line-height: var(--jp-code-line-height);\n",
       "\"><span style=\"color: var(--jp-warn-color2)\">lsst.cell_coadds._fits</span> <span style=\"color: var(--jp-info-color0)\">INFO</span>: Attemping to set pixel units from TUNIT1.</pre>"
      ],
      "text/plain": [
       "<IPython.core.display.HTML object>"
      ]
     },
     "metadata": {},
     "output_type": "display_data"
    }
   ],
   "source": [
    "cell_coadd = cell_butler.get('deepCoaddCell', \n",
    "                             collections = cell_collection, \n",
    "                             instrument = 'LSSTComCam', \n",
    "                             skymap = 'lsst_cells_v1', \n",
    "                             tract = 10704, \n",
    "                             patch = 5,\n",
    "                             band = 'i',)"
   ]
  },
  {
   "cell_type": "markdown",
   "id": "3f29f631-71f9-4aa4-8ba6-ee72ccb61275",
   "metadata": {},
   "source": [
    "The warning above is indicating these coadds are slightly outdated and do not have aperture correction information."
   ]
  },
  {
   "cell_type": "code",
   "execution_count": 6,
   "id": "066297e5-1b50-4e77-b895-65896833da9d",
   "metadata": {
    "execution": {
     "iopub.execute_input": "2025-04-10T21:25:42.975264Z",
     "iopub.status.busy": "2025-04-10T21:25:42.975122Z",
     "iopub.status.idle": "2025-04-10T21:25:42.977525Z",
     "shell.execute_reply": "2025-04-10T21:25:42.977167Z",
     "shell.execute_reply.started": "2025-04-10T21:25:42.975251Z"
    }
   },
   "outputs": [],
   "source": [
    "# define one of the cells\n",
    "test_cell = cell_coadd.cells[Index2D(x=2,y=15)]"
   ]
  },
  {
   "cell_type": "code",
   "execution_count": 7,
   "id": "266d871b-524d-411a-890e-5cb45caf5334",
   "metadata": {
    "execution": {
     "iopub.execute_input": "2025-04-10T21:25:42.978219Z",
     "iopub.status.busy": "2025-04-10T21:25:42.977933Z",
     "iopub.status.idle": "2025-04-10T21:25:42.985345Z",
     "shell.execute_reply": "2025-04-10T21:25:42.984936Z",
     "shell.execute_reply.started": "2025-04-10T21:25:42.978203Z"
    }
   },
   "outputs": [],
   "source": [
    "# to see what cell indices are available run \n",
    "# printlist(cell_coadd.cells.keys())"
   ]
  },
  {
   "cell_type": "markdown",
   "id": "850f8ffb-d743-4fda-b619-b41934e5d13c",
   "metadata": {},
   "source": [
    "Retrieve the PSF information from the cell. \n",
    "\n",
    "For a more thorough tutorial on PSF functions, see https://nbviewer.org/github/LSSTScienceCollaborations/StackClub/blob/rendered/Validation/image_quality_demo.nbconvert.ipynb"
   ]
  },
  {
   "cell_type": "code",
   "execution_count": 8,
   "id": "f1460011-148d-450f-8d37-da3a75481176",
   "metadata": {
    "execution": {
     "iopub.execute_input": "2025-04-10T21:25:44.398767Z",
     "iopub.status.busy": "2025-04-10T21:25:44.398548Z",
     "iopub.status.idle": "2025-04-10T21:25:44.401977Z",
     "shell.execute_reply": "2025-04-10T21:25:44.401653Z",
     "shell.execute_reply.started": "2025-04-10T21:25:44.398750Z"
    }
   },
   "outputs": [],
   "source": [
    "# retrieve the psf\n",
    "psf_im = test_cell.psf_image\n",
    "\n",
    "# define a PSF kernel from the PSF image\n",
    "psf_kernel = afwMath.FixedKernel(psf_im)\n",
    "psf = meas.KernelPsf(psf_kernel)\n",
    "shape = psf.computeShape(psf_im.getBBox().getCenter())\n",
    "\n",
    "# various useful functions\n",
    "trace_radius = shape.getTraceRadius()\n",
    "i_xx, i_yy, i_xy = shape.getIxx(), shape.getIyy(), shape.getIxy()\n",
    "\n",
    "q = Quadrupole(i_xx, i_yy, i_xy)\n",
    "s = SeparableDistortionTraceRadius(q)\n",
    "\n",
    "e1, e2 = s.getE1(), s.getE2()\n",
    "theta = np.arctan2(e2, e1)"
   ]
  },
  {
   "cell_type": "markdown",
   "id": "5cdc1bbc-a36f-457e-b932-26d4678ad3d7",
   "metadata": {
    "execution": {
     "iopub.execute_input": "2025-04-08T23:19:41.680183Z",
     "iopub.status.busy": "2025-04-08T23:19:41.679955Z",
     "iopub.status.idle": "2025-04-08T23:19:41.683979Z",
     "shell.execute_reply": "2025-04-08T23:19:41.683520Z",
     "shell.execute_reply.started": "2025-04-08T23:19:41.680167Z"
    }
   },
   "source": [
    "### For cells across multiple tracts"
   ]
  },
  {
   "cell_type": "code",
   "execution_count": 9,
   "id": "5d7b4ccd-1728-444d-91d0-59d76dc7a3b0",
   "metadata": {
    "execution": {
     "iopub.execute_input": "2025-04-10T21:25:46.541661Z",
     "iopub.status.busy": "2025-04-10T21:25:46.541340Z",
     "iopub.status.idle": "2025-04-10T21:25:46.544714Z",
     "shell.execute_reply": "2025-04-10T21:25:46.544388Z",
     "shell.execute_reply.started": "2025-04-10T21:25:46.541644Z"
    }
   },
   "outputs": [],
   "source": [
    "'''\n",
    "Retrieves the unique tract/patch combiations within a specified collection.\n",
    "\n",
    "-- Inputs --\n",
    "\n",
    "butler: Butler object\n",
    "collection: the relevant collection containing cell-based coadds of interest\n",
    "data_kwargs: dictionary of specific instrument and skymap used for butler query\n",
    "\n",
    "-- Returns --\n",
    "\n",
    "field_quanta: pandas DataFrame with columns for available tract and patch IDs within collection\n",
    "'''\n",
    "def get_field_info(butler, collection, data_kwargs):\n",
    "    # field_quanta = [] # collection of tract, patch available in collection\n",
    "    field_quanta = pd.DataFrame()\n",
    "    tracts = []\n",
    "    patches = []\n",
    "    \n",
    "    for ref in butler.registry.queryDatasets('deepCoaddCell',\n",
    "                                                 band='i',\n",
    "                                                 collections=collection,\n",
    "                                                 instrument = data_kwargs['instrument'],\n",
    "                                                 skymap = data_kwargs['skymap'],):\n",
    "        \n",
    "        tracts.append(ref.dataId.get('tract'))\n",
    "        patches.append(ref.dataId.get('patch'))\n",
    "\n",
    "    field_quanta['tract'] = tracts\n",
    "    field_quanta['patch'] = patches\n",
    "\n",
    "    return field_quanta"
   ]
  },
  {
   "cell_type": "code",
   "execution_count": 10,
   "id": "e3da11ff-0c76-4c86-8490-06ec5d0d97be",
   "metadata": {
    "execution": {
     "iopub.execute_input": "2025-04-10T21:25:46.926389Z",
     "iopub.status.busy": "2025-04-10T21:25:46.926210Z",
     "iopub.status.idle": "2025-04-10T21:25:46.929626Z",
     "shell.execute_reply": "2025-04-10T21:25:46.929266Z",
     "shell.execute_reply.started": "2025-04-10T21:25:46.926373Z"
    }
   },
   "outputs": [],
   "source": [
    "'''\n",
    "Retrieve the total number of cells from your input collection\n",
    "\n",
    "-- Inputs --\n",
    "\n",
    "field_data: pandas DataFrame containing tract/patch combinations of interest\n",
    "butler: Butler object\n",
    "collection: the relevant collection containing cell-based coadds of interest\n",
    "data_kwargs: dictionary of specific instrument and skymap used for butler query\n",
    "\n",
    "-- Returns --\n",
    "\n",
    "cell_count: number of cells with inputs in specified field data\n",
    "\n",
    "NOTE: DOES include duplicate cells due to overlap of patches/tracts\n",
    "'''\n",
    "def get_cell_count(field_data, butler, collection, data_kwargs):\n",
    "\n",
    "    cell_count = 0\n",
    "    \n",
    "    for patch_index, field in field_data.iterrows():\n",
    "    \n",
    "        coadd = butler.get('deepCoaddCell', \n",
    "                           collections=collection, \n",
    "                           instrument=data_kwargs['instrument'],\n",
    "                           skymap = data_kwargs['skymap'],\n",
    "                           tract=field['tract'], \n",
    "                           patch=field['patch'],\n",
    "                           band='i',)\n",
    "    \n",
    "        cells = len(list(coadd.cells.keys())) # get number of non-empty cells\n",
    "        cell_count += cells\n",
    "        del coadd\n",
    "        gc.collect()\n",
    "\n",
    "    return cell_count"
   ]
  },
  {
   "cell_type": "code",
   "execution_count": 13,
   "id": "dd45c83e-1df0-4971-b891-eb5550aabc46",
   "metadata": {
    "execution": {
     "iopub.execute_input": "2025-04-10T21:37:01.029282Z",
     "iopub.status.busy": "2025-04-10T21:37:01.029063Z",
     "iopub.status.idle": "2025-04-10T21:37:01.035107Z",
     "shell.execute_reply": "2025-04-10T21:37:01.034746Z",
     "shell.execute_reply.started": "2025-04-10T21:37:01.029267Z"
    }
   },
   "outputs": [],
   "source": [
    "'''\n",
    "Iterates through cells in each patch to collect cell PSF infromation in a DataFrame.\n",
    "\n",
    "-- Inputs --\n",
    "\n",
    "field_data: pandas DataFrame containing tract/patch combinations of interest\n",
    "butler: Butler object\n",
    "collection: the relevant collection containing cell-based coadds of interest\n",
    "data_kwargs: dictionary of specific instrument and skymap used for butler query\n",
    "\n",
    "-- Returns --\n",
    "\n",
    "data_df: pandas DataFrame containing PSF information for each cell.\n",
    "'''\n",
    "def get_cell_data(field_data, butler, collection, data_kwargs):\n",
    "\n",
    "    # cell_num = get_cell_count(field_data, butler, collection, data_kwargs)\n",
    "    # can set manually to avoid running above function again\n",
    "    cell_num = 56260 \n",
    "    print('cell num: ', cell_num)\n",
    "    print('cell count (done)')\n",
    "\n",
    "    # define length of dataframe ahead of time, for speed\n",
    "    data_df = pd.DataFrame(index=range(cell_num),\n",
    "                           columns=['tract', \n",
    "                                    'patch', \n",
    "                                    'x_index', \n",
    "                                    'y_index', \n",
    "                                    'ra', \n",
    "                                    'dec', \n",
    "                                    'trace_radius', \n",
    "                                    'e1', \n",
    "                                    'e2', \n",
    "                                    'theta'])\n",
    "    \n",
    "    for patch_index, field in field_data.iterrows():\n",
    "    \n",
    "        coadd = butler.get('deepCoaddCell', \n",
    "                         collections=collection, \n",
    "                         instrument=data_kwargs['instrument'],\n",
    "                         skymap = data_kwargs['skymap'], \n",
    "                         tract=field['tract'], \n",
    "                         patch=field['patch'],\n",
    "                         band='i',)\n",
    "\n",
    "        wcs = coadd.wcs\n",
    "    \n",
    "        cell_list = list(coadd.cells.keys()) # skips empty cell indices\n",
    "    \n",
    "        for cell_index in cell_list:\n",
    "    \n",
    "            cell = coadd.cells[cell_index]\n",
    "\n",
    "            x_index = cell_index.x\n",
    "            y_index = cell_index.y\n",
    "\n",
    "            # collect cell center location\n",
    "            # primarily used for removing duplicates due to patch overlap\n",
    "            cell_center = cell.inner.bbox.getCenter()\n",
    "            cell_center_coord = wcs.pixelToSky(cell_center)\n",
    "\n",
    "            psf_im = cell.psf_image\n",
    "\n",
    "            psf_kernel = afwMath.FixedKernel(psf_im)\n",
    "            psf = meas.KernelPsf(psf_kernel)\n",
    "            shape = psf.computeShape(psf_im.getBBox().getCenter())\n",
    "            \n",
    "            trace_radius = shape.getTraceRadius()\n",
    "            i_xx, i_yy, i_xy = shape.getIxx(), shape.getIyy(), shape.getIxy()\n",
    "            \n",
    "            q = Quadrupole(i_xx, i_yy, i_xy)\n",
    "            s = SeparableDistortionTraceRadius(q)\n",
    "            \n",
    "            e1, e2 = s.getE1(), s.getE2()\n",
    "            theta = np.arctan2(e2, e1)\n",
    "\n",
    "            data = [field['tract'],\n",
    "                    field['patch'],\n",
    "                    x_index, \n",
    "                    y_index, \n",
    "                    cell_center_coord[0].asDegrees(), \n",
    "                    cell_center_coord[1].asDegrees(),\n",
    "                    trace_radius,\n",
    "                    e1,\n",
    "                    e2,\n",
    "                    theta]\n",
    "\n",
    "            data_df.loc[data_df[data_df.tract.isnull()].index[0]] = data\n",
    "            \n",
    "        coadd = 0\n",
    "        # gc.collect()\n",
    "        if (patch_index%5)==0:\n",
    "            gc.collect()\n",
    "\n",
    "    # drop extra unused rows, if any\n",
    "    data_df = data_df.dropna()\n",
    "\n",
    "    # calculate quantities derived from other columns\n",
    "    data_df['e'] = np.sqrt(np.add(np.square(data_df['e1'].astype(np.float64)), np.square(data_df['e2'].astype(np.float64))))\n",
    "    data_df['x_vec'] = data_df['e'] * np.cos(data_df['theta'].astype(np.float64))\n",
    "    data_df['y_vec'] = data_df['e'] * np.sin(data_df['theta'].astype(np.float64))\n",
    "    \n",
    "    # remove overlapping cells due to patch overlap    \n",
    "    data_df = data_df.drop_duplicates(subset=['ra', 'dec'])\n",
    "    gc.collect()\n",
    "\n",
    "    return data_df"
   ]
  },
  {
   "cell_type": "markdown",
   "id": "3e9bca41-5d72-4126-a9e5-4a6ebc1b2996",
   "metadata": {
    "execution": {
     "iopub.execute_input": "2025-04-10T21:18:30.077948Z",
     "iopub.status.busy": "2025-04-10T21:18:30.077618Z",
     "iopub.status.idle": "2025-04-10T21:18:30.081484Z",
     "shell.execute_reply": "2025-04-10T21:18:30.080862Z",
     "shell.execute_reply.started": "2025-04-10T21:18:30.077925Z"
    }
   },
   "source": [
    "Run the functions.\n",
    "\n",
    "The `cell_count` part takes ~8 minutes, but for this example can be set to 56260 to skip running. The rest is ~9 minutes.\n",
    "\n",
    "(may want to collapse output in a notebook)"
   ]
  },
  {
   "cell_type": "code",
   "execution_count": null,
   "id": "7f4dd2bb-339e-42a3-acb6-f18101fc8498",
   "metadata": {
    "execution": {
     "iopub.execute_input": "2025-04-10T21:25:49.087943Z",
     "iopub.status.busy": "2025-04-10T21:25:49.087707Z",
     "iopub.status.idle": "2025-04-10T21:33:37.695304Z",
     "shell.execute_reply": "2025-04-10T21:33:37.694721Z",
     "shell.execute_reply.started": "2025-04-10T21:25:49.087928Z"
    }
   },
   "outputs": [],
   "source": [
    "field_info = get_field_info(cell_butler, cell_collection, comcam_dataId)\n",
    "psf_df = get_cell_data(field_info, cell_butler, cell_collection, comcam_dataId)"
   ]
  }
 ],
 "metadata": {
  "kernelspec": {
   "display_name": "LSST",
   "language": "python",
   "name": "lsst"
  },
  "language_info": {
   "codemirror_mode": {
    "name": "ipython",
    "version": 3
   },
   "file_extension": ".py",
   "mimetype": "text/x-python",
   "name": "python",
   "nbconvert_exporter": "python",
   "pygments_lexer": "ipython3",
   "version": "3.12.9"
  }
 },
 "nbformat": 4,
 "nbformat_minor": 5
}
